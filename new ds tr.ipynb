{
 "cells": [
  {
   "cell_type": "code",
   "execution_count": 2,
   "metadata": {},
   "outputs": [],
   "source": [
    "# number of folders = shpae, x \n",
    "# folders should not be empty\n",
    "# fix shape 22500 times"
   ]
  },
  {
   "cell_type": "code",
   "execution_count": 3,
   "metadata": {
    "_cell_guid": "b1076dfc-b9ad-4769-8c92-a6c4dae69d19",
    "_uuid": "8f2839f25d086af736a60e9eeb907d3b93b6e0e5",
    "execution": {
     "iopub.execute_input": "2022-11-19T18:51:41.274490Z",
     "iopub.status.busy": "2022-11-19T18:51:41.274118Z",
     "iopub.status.idle": "2022-11-19T18:51:47.396242Z",
     "shell.execute_reply": "2022-11-19T18:51:47.395363Z",
     "shell.execute_reply.started": "2022-11-19T18:51:41.274389Z"
    }
   },
   "outputs": [
    {
     "name": "stderr",
     "output_type": "stream",
     "text": [
      "C:\\Users\\User\\anaconda3\\lib\\site-packages\\scipy\\__init__.py:138: UserWarning: A NumPy version >=1.16.5 and <1.23.0 is required for this version of SciPy (detected version 1.23.4)\n",
      "  warnings.warn(f\"A NumPy version >={np_minversion} and <{np_maxversion} is required for this version of \"\n"
     ]
    }
   ],
   "source": [
    "import numpy as np\n",
    "import pandas as pd\n",
    "import random\n",
    "import cv2\n",
    "import os\n",
    "from tqdm import tqdm\n",
    "\n",
    "from sklearn.model_selection import train_test_split\n",
    "from sklearn.preprocessing import LabelBinarizer\n",
    "from sklearn.model_selection import train_test_split\n",
    "from sklearn.utils import shuffle\n",
    "from sklearn.metrics import accuracy_score\n",
    "\n",
    "import tensorflow as tf\n",
    "from tensorflow import expand_dims\n",
    "from tensorflow.keras.models import Sequential\n",
    "from tensorflow.keras.layers import Conv2D, Input, Lambda\n",
    "from tensorflow.keras.layers import MaxPooling2D\n",
    "from tensorflow.keras.layers import Activation\n",
    "from tensorflow.keras.layers import Flatten\n",
    "from tensorflow.keras.layers import Dense\n",
    "from tensorflow.keras.optimizers import SGD\n",
    "from tensorflow.keras import backend as K"
   ]
  },
  {
   "cell_type": "code",
   "execution_count": 4,
   "metadata": {
    "execution": {
     "iopub.execute_input": "2022-11-19T18:51:47.398548Z",
     "iopub.status.busy": "2022-11-19T18:51:47.397915Z",
     "iopub.status.idle": "2022-11-19T18:51:56.371281Z",
     "shell.execute_reply": "2022-11-19T18:51:56.370189Z",
     "shell.execute_reply.started": "2022-11-19T18:51:47.398509Z"
    }
   },
   "outputs": [
    {
     "name": "stdout",
     "output_type": "stream",
     "text": [
      "Requirement already satisfied: imutils in c:\\users\\user\\anaconda3\\lib\\site-packages (0.5.4)\n"
     ]
    }
   ],
   "source": [
    "!pip install imutils\n",
    "from imutils import paths"
   ]
  },
  {
   "cell_type": "markdown",
   "metadata": {},
   "source": [
    "### Todo\n",
    "\n",
    "create subset of clients\n",
    "\n",
    "- increase comm rounds 300\n",
    "- increase hidden units 400\n",
    "- increase no of layers\n",
    "- no of clients 20"
   ]
  },
  {
   "cell_type": "code",
   "execution_count": 5,
   "metadata": {
    "execution": {
     "iopub.execute_input": "2022-11-19T18:51:56.375437Z",
     "iopub.status.busy": "2022-11-19T18:51:56.374830Z",
     "iopub.status.idle": "2022-11-19T18:51:56.381254Z",
     "shell.execute_reply": "2022-11-19T18:51:56.380318Z",
     "shell.execute_reply.started": "2022-11-19T18:51:56.375365Z"
    }
   },
   "outputs": [],
   "source": [
    "debug = 0"
   ]
  },
  {
   "cell_type": "code",
   "execution_count": 6,
   "metadata": {
    "execution": {
     "iopub.execute_input": "2022-11-19T18:51:56.383718Z",
     "iopub.status.busy": "2022-11-19T18:51:56.383209Z",
     "iopub.status.idle": "2022-11-19T18:51:56.403838Z",
     "shell.execute_reply": "2022-11-19T18:51:56.402761Z",
     "shell.execute_reply.started": "2022-11-19T18:51:56.383679Z"
    }
   },
   "outputs": [],
   "source": [
    "def load(paths, verbose=-1):\n",
    "    '''expects images for each class in seperate dir, \n",
    "    e.g all digits in 0 class in the directory named 0 '''\n",
    "    data = list()\n",
    "    labels = list()\n",
    "    # loop over the input images\n",
    "    for (i, imgpath) in enumerate(paths):\n",
    "        # load the image and extract the class labels        \n",
    "        im_gray = cv2.imread(imgpath , cv2.IMREAD_GRAYSCALE)\n",
    "        image = np.array(im_gray).flatten() # cv2.imread(imgpath) \n",
    "        # print(image.shape)\n",
    "        label = imgpath.split(os.path.sep)[-2]\n",
    "        # scale the image to [0, 1] and add to list\n",
    "        data.append(image/255)\n",
    "        labels.append(label)\n",
    "        # show an update every `verbose` images\n",
    "        if verbose > 0 and i > 0 and (i + 1) % verbose == 0:\n",
    "            print(\"[INFO] processed {}/{}\".format(i + 1, len(paths)))\n",
    "    # return a tuple of the data and labels\n",
    "    \n",
    "    return data, labels\n",
    "\n",
    "def create_clients(image_list, label_list, num_clients=100, initial='clients'):\n",
    "    ''' return: a dictionary with keys clients' names and value as \n",
    "                data shards - tuple of images and label lists.\n",
    "        args: \n",
    "            image_list: a list of numpy arrays of training images\n",
    "            label_list:a list of binarized labels for each image\n",
    "            num_client: number of fedrated members (clients)\n",
    "            initials: the clients'name prefix, e.g, clients_1 \n",
    "            \n",
    "    '''\n",
    "\n",
    "    #create a list of client names\n",
    "    client_names = ['{}_{}'.format(initial, i+1) for i in range(num_clients)]\n",
    "\n",
    "    #randomize the data\n",
    "    data = list(zip(image_list, label_list))\n",
    "    random.shuffle(data)  # <- IID\n",
    "    \n",
    "    # sort data for non-iid\n",
    "#     max_y = np.argmax(label_list, axis=-1)\n",
    "#     sorted_zip = sorted(zip(max_y, label_list, image_list), key=lambda x: x[0])\n",
    "#     data = [(x,y) for _,y,x in sorted_zip]\n",
    "\n",
    "    #shard data and place at each client\n",
    "    size = len(data)//num_clients\n",
    "    shards = [data[i:i + size] for i in range(0, size*num_clients, size)]\n",
    "\n",
    "    #number of clients must equal number of shards\n",
    "    assert(len(shards) == len(client_names))\n",
    "\n",
    "    return {client_names[i] : shards[i] for i in range(len(client_names))} \n",
    "\n",
    "\n",
    "def batch_data(data_shard, bs=32):\n",
    "    '''Takes in a clients data shard and create a tfds object off it\n",
    "    args:\n",
    "        shard: a data, label constituting a client's data shard\n",
    "        bs:batch size\n",
    "    return:\n",
    "        tfds object'''\n",
    "    #seperate shard into data and labels lists\n",
    "    data, label = zip(*data_shard)\n",
    "    dataset = tf.data.Dataset.from_tensor_slices((list(data), list(label)))\n",
    "    return dataset.shuffle(len(label)).batch(bs)\n",
    "\n",
    "\n",
    "def weight_scalling_factor(clients_trn_data, client_name):\n",
    "    client_names = list(clients_trn_data.keys())\n",
    "    #get the bs\n",
    "    bs = list(clients_trn_data[client_name])[0][0].shape[0]\n",
    "    #first calculate the total training data points across clinets\n",
    "    global_count = sum([tf.data.experimental.cardinality(clients_trn_data[client_name]).numpy() for client_name in client_names])*bs\n",
    "    # get the total number of data points held by a client\n",
    "    local_count = tf.data.experimental.cardinality(clients_trn_data[client_name]).numpy()*bs\n",
    "    \n",
    "    \n",
    "    if debug:\n",
    "        print('global_count', global_count, 'local_count', local_count, 'bs', bs)\n",
    "    \n",
    "    return local_count/global_count\n",
    "\n",
    "\n",
    "def scale_model_weights(weight, scalar):\n",
    "    '''function for scaling a models weights'''\n",
    "    weight_final = []\n",
    "    steps = len(weight)\n",
    "    for i in range(steps):\n",
    "        weight_final.append(scalar * weight[i])\n",
    "    return weight_final\n",
    "\n",
    "\n",
    "\n",
    "def sum_scaled_weights(scaled_weight_list):\n",
    "    '''Return the sum of the listed scaled weights. The is equivalent to scaled avg of the weights'''\n",
    "    avg_grad = list()\n",
    "    #get the average grad accross all client gradients\n",
    "    for grad_list_tuple in zip(*scaled_weight_list):\n",
    "        layer_mean = tf.math.reduce_sum(grad_list_tuple, axis=0)\n",
    "        avg_grad.append(layer_mean)\n",
    "        \n",
    "    return avg_grad\n",
    "\n",
    "\n",
    "def test_model(X_test, Y_test,  model, comm_round):\n",
    "    cce = tf.keras.losses.CategoricalCrossentropy(from_logits=True)\n",
    "    #logits = model.predict(X_test, batch_size=100)\n",
    "    logits = model.predict(X_test)\n",
    "    loss = cce(Y_test, logits)\n",
    "    acc = accuracy_score(tf.argmax(logits, axis=1), tf.argmax(Y_test, axis=1))\n",
    "    print('comm_round: {} | global_acc: {:.3%} | global_loss: {}'.format(comm_round, acc, loss))\n",
    "    return acc, loss\n"
   ]
  },
  {
   "cell_type": "code",
   "execution_count": 7,
   "metadata": {
    "execution": {
     "iopub.execute_input": "2022-11-19T18:51:56.405917Z",
     "iopub.status.busy": "2022-11-19T18:51:56.405476Z",
     "iopub.status.idle": "2022-11-19T18:51:56.417235Z",
     "shell.execute_reply": "2022-11-19T18:51:56.416403Z",
     "shell.execute_reply.started": "2022-11-19T18:51:56.405877Z"
    }
   },
   "outputs": [],
   "source": [
    "class SimpleMLP:\n",
    "    @staticmethod\n",
    "    def build(shape, classes):\n",
    "        model = Sequential()\n",
    "        model.add(Dense(200, input_shape=(shape,)))\n",
    "        model.add(Activation(\"relu\"))\n",
    "        model.add(Dense(200))\n",
    "        model.add(Activation(\"relu\"))\n",
    "        model.add(Dense(classes))\n",
    "        model.add(Activation(\"softmax\"))\n",
    "        return model\n",
    "    "
   ]
  },
  {
   "cell_type": "code",
   "execution_count": 8,
   "metadata": {
    "_kg_hide-output": true,
    "execution": {
     "iopub.execute_input": "2022-11-19T18:51:56.419060Z",
     "iopub.status.busy": "2022-11-19T18:51:56.418610Z",
     "iopub.status.idle": "2022-11-19T18:57:39.942507Z",
     "shell.execute_reply": "2022-11-19T18:57:39.941518Z",
     "shell.execute_reply.started": "2022-11-19T18:51:56.419021Z"
    }
   },
   "outputs": [],
   "source": [
    "#declear path to your mnist data folder\n",
    "img_path = 'fishdata2/output' #'../input/cifar10-pngs-in-folders/cifar10/test'  # <-- test dataset #'../input/mnistasjpg/trainingSample/trainingSample' # <-- smaller dataset\n",
    "\n",
    "#get the path list using the path object\n",
    "image_paths = list(paths.list_images(img_path))\n",
    "\n",
    "#apply our function\n",
    "image_list, label_list = load(image_paths, verbose=10000)\n",
    "\n",
    "#binarize the labels\n",
    "lb = LabelBinarizer()\n",
    "label_list = lb.fit_transform(label_list)\n"
   ]
  },
  {
   "cell_type": "code",
   "execution_count": 9,
   "metadata": {
    "execution": {
     "iopub.execute_input": "2022-11-19T18:57:39.944266Z",
     "iopub.status.busy": "2022-11-19T18:57:39.943904Z",
     "iopub.status.idle": "2022-11-19T18:57:39.970267Z",
     "shell.execute_reply": "2022-11-19T18:57:39.969296Z",
     "shell.execute_reply.started": "2022-11-19T18:57:39.944223Z"
    }
   },
   "outputs": [],
   "source": [
    "#split data into training and test set\n",
    "X_train, X_test, y_train, y_test = train_test_split(image_list, \n",
    "                                                    label_list, \n",
    "                                                    test_size=0.1, \n",
    "                                                    random_state=42)"
   ]
  },
  {
   "cell_type": "markdown",
   "metadata": {},
   "source": [
    "### IID"
   ]
  },
  {
   "cell_type": "code",
   "execution_count": null,
   "metadata": {},
   "outputs": [],
   "source": []
  },
  {
   "cell_type": "code",
   "execution_count": 10,
   "metadata": {
    "execution": {
     "iopub.execute_input": "2022-11-19T18:57:39.973519Z",
     "iopub.status.busy": "2022-11-19T18:57:39.973115Z",
     "iopub.status.idle": "2022-11-19T18:57:39.984407Z",
     "shell.execute_reply": "2022-11-19T18:57:39.983207Z",
     "shell.execute_reply.started": "2022-11-19T18:57:39.973461Z"
    }
   },
   "outputs": [
    {
     "data": {
      "text/plain": [
       "(6777, 753, 6777, 753)"
      ]
     },
     "execution_count": 10,
     "metadata": {},
     "output_type": "execute_result"
    }
   ],
   "source": [
    "len(X_train), len(X_test), len(y_train), len(y_test)"
   ]
  },
  {
   "cell_type": "code",
   "execution_count": 11,
   "metadata": {
    "execution": {
     "iopub.execute_input": "2022-11-19T18:57:39.987846Z",
     "iopub.status.busy": "2022-11-19T18:57:39.987400Z",
     "iopub.status.idle": "2022-11-19T18:57:40.050835Z",
     "shell.execute_reply": "2022-11-19T18:57:40.049934Z",
     "shell.execute_reply.started": "2022-11-19T18:57:39.987807Z"
    }
   },
   "outputs": [],
   "source": [
    "#create clients\n",
    "clients = create_clients(X_train, y_train, num_clients=100, initial='client')"
   ]
  },
  {
   "cell_type": "code",
   "execution_count": 12,
   "metadata": {
    "execution": {
     "iopub.execute_input": "2022-11-19T18:57:40.052799Z",
     "iopub.status.busy": "2022-11-19T18:57:40.052336Z",
     "iopub.status.idle": "2022-11-19T18:57:40.057078Z",
     "shell.execute_reply": "2022-11-19T18:57:40.055868Z",
     "shell.execute_reply.started": "2022-11-19T18:57:40.052756Z"
    }
   },
   "outputs": [],
   "source": [
    "# client_names = ['{}_{}'.format('client', i+1) for i in range(100)]\n",
    "# s = clients['client_1'][0][1]*0\n",
    "# for c in client_names:\n",
    "#     sum = clients[c][0][1]\n",
    "#     for i in range(1,378):\n",
    "#         sum = sum + clients[c][i][1]\n",
    "        \n",
    "#     s = s + sum/378\n",
    "# s"
   ]
  },
  {
   "cell_type": "code",
   "execution_count": 13,
   "metadata": {
    "execution": {
     "iopub.execute_input": "2022-11-19T18:57:40.059150Z",
     "iopub.status.busy": "2022-11-19T18:57:40.058684Z",
     "iopub.status.idle": "2022-11-19T18:57:47.618948Z",
     "shell.execute_reply": "2022-11-19T18:57:47.617902Z",
     "shell.execute_reply.started": "2022-11-19T18:57:40.059110Z"
    }
   },
   "outputs": [],
   "source": [
    "#process and batch the training data for each client\n",
    "clients_batched = dict()\n",
    "for (client_name, data) in clients.items():\n",
    "    clients_batched[client_name] = batch_data(data)\n",
    "    \n",
    "#process and batch the test set  \n",
    "test_batched = tf.data.Dataset.from_tensor_slices((X_test, y_test)).batch(len(y_test))"
   ]
  },
  {
   "cell_type": "code",
   "execution_count": 14,
   "metadata": {
    "execution": {
     "iopub.execute_input": "2022-11-19T18:57:47.620936Z",
     "iopub.status.busy": "2022-11-19T18:57:47.620548Z",
     "iopub.status.idle": "2022-11-19T18:57:47.627876Z",
     "shell.execute_reply": "2022-11-19T18:57:47.626622Z",
     "shell.execute_reply.started": "2022-11-19T18:57:47.620895Z"
    }
   },
   "outputs": [
    {
     "name": "stderr",
     "output_type": "stream",
     "text": [
      "C:\\Users\\User\\AppData\\Roaming\\Python\\Python38\\site-packages\\keras\\optimizers\\optimizer_v2\\gradient_descent.py:111: UserWarning: The `lr` argument is deprecated, use `learning_rate` instead.\n",
      "  super().__init__(name, **kwargs)\n"
     ]
    }
   ],
   "source": [
    "lr = 0.01\n",
    "comms_round = 80\n",
    "loss='categorical_crossentropy'\n",
    "# loss = 'sparse_categorical_crossentropy'\n",
    "metrics = ['accuracy']\n",
    "optimizer = SGD(lr=lr, \n",
    "                decay=lr / comms_round, \n",
    "                momentum=0.9\n",
    "               )          "
   ]
  },
  {
   "cell_type": "code",
   "execution_count": 15,
   "metadata": {
    "execution": {
     "iopub.execute_input": "2022-11-19T18:57:47.630858Z",
     "iopub.status.busy": "2022-11-19T18:57:47.629917Z",
     "iopub.status.idle": "2022-11-19T18:57:48.064256Z",
     "shell.execute_reply": "2022-11-19T18:57:48.063260Z",
     "shell.execute_reply.started": "2022-11-19T18:57:47.630813Z"
    }
   },
   "outputs": [],
   "source": [
    "#initialize global model\n",
    "\n",
    "build_shape = 40000 #(28, 28, 3)  # 1024 <- CIFAR-10    # 784 # for MNIST\n",
    "\n",
    "smlp_global = SimpleMLP()\n",
    "#dee: number of folders\n",
    "global_model = smlp_global.build(build_shape, 3) \n",
    "global_acc_list = []\n",
    "global_loss_list = []"
   ]
  },
  {
   "cell_type": "code",
   "execution_count": 16,
   "metadata": {
    "execution": {
     "iopub.execute_input": "2022-11-19T18:57:48.066003Z",
     "iopub.status.busy": "2022-11-19T18:57:48.065668Z"
    },
    "scrolled": true
   },
   "outputs": [
    {
     "name": "stdout",
     "output_type": "stream",
     "text": [
      "WARNING:tensorflow:5 out of the last 13 calls to <function Model.make_train_function.<locals>.train_function at 0x0000013FEE9AA790> triggered tf.function retracing. Tracing is expensive and the excessive number of tracings could be due to (1) creating @tf.function repeatedly in a loop, (2) passing tensors with different shapes, (3) passing Python objects instead of tensors. For (1), please define your @tf.function outside of the loop. For (2), @tf.function has reduce_retracing=True option that can avoid unnecessary retracing. For (3), please refer to https://www.tensorflow.org/guide/function#controlling_retracing and https://www.tensorflow.org/api_docs/python/tf/function for  more details.\n",
      "WARNING:tensorflow:5 out of the last 13 calls to <function Model.make_train_function.<locals>.train_function at 0x0000013FEEA5CB80> triggered tf.function retracing. Tracing is expensive and the excessive number of tracings could be due to (1) creating @tf.function repeatedly in a loop, (2) passing tensors with different shapes, (3) passing Python objects instead of tensors. For (1), please define your @tf.function outside of the loop. For (2), @tf.function has reduce_retracing=True option that can avoid unnecessary retracing. For (3), please refer to https://www.tensorflow.org/guide/function#controlling_retracing and https://www.tensorflow.org/api_docs/python/tf/function for  more details.\n",
      "24/24 [==============================] - 0s 13ms/step\n",
      "comm_round: 0 | global_acc: 35.325% | global_loss: 1.197745442390442\n",
      "24/24 [==============================] - 0s 14ms/step\n",
      "comm_round: 1 | global_acc: 35.325% | global_loss: 1.1981985569000244\n",
      "24/24 [==============================] - 0s 15ms/step\n",
      "comm_round: 2 | global_acc: 35.325% | global_loss: 1.1451399326324463\n",
      "24/24 [==============================] - 0s 14ms/step\n",
      "comm_round: 3 | global_acc: 34.130% | global_loss: 1.0986729860305786\n",
      "24/24 [==============================] - 0s 14ms/step\n",
      "comm_round: 4 | global_acc: 34.130% | global_loss: 1.0987043380737305\n",
      "24/24 [==============================] - 0s 14ms/step\n",
      "comm_round: 5 | global_acc: 34.130% | global_loss: 1.0986669063568115\n",
      "24/24 [==============================] - 0s 13ms/step\n",
      "comm_round: 6 | global_acc: 34.130% | global_loss: 1.0986642837524414\n",
      "24/24 [==============================] - 0s 15ms/step\n",
      "comm_round: 7 | global_acc: 34.130% | global_loss: 1.0986425876617432\n",
      "24/24 [==============================] - 0s 14ms/step\n",
      "comm_round: 8 | global_acc: 34.130% | global_loss: 1.0986450910568237\n",
      "24/24 [==============================] - 0s 15ms/step\n",
      "comm_round: 9 | global_acc: 34.130% | global_loss: 1.0986663103103638\n",
      "24/24 [==============================] - 0s 14ms/step\n",
      "comm_round: 10 | global_acc: 34.130% | global_loss: 1.0986998081207275\n",
      "24/24 [==============================] - 0s 15ms/step\n",
      "comm_round: 11 | global_acc: 34.130% | global_loss: 1.0987263917922974\n",
      "24/24 [==============================] - 0s 14ms/step\n",
      "comm_round: 12 | global_acc: 34.130% | global_loss: 1.0987249612808228\n",
      "24/24 [==============================] - 0s 15ms/step\n",
      "comm_round: 13 | global_acc: 34.130% | global_loss: 1.0987448692321777\n",
      "24/24 [==============================] - 0s 15ms/step\n",
      "comm_round: 14 | global_acc: 34.130% | global_loss: 1.0987032651901245\n",
      "24/24 [==============================] - 0s 14ms/step\n",
      "comm_round: 15 | global_acc: 34.130% | global_loss: 1.0986976623535156\n",
      "24/24 [==============================] - 0s 14ms/step\n",
      "comm_round: 16 | global_acc: 34.130% | global_loss: 1.0986658334732056\n",
      "24/24 [==============================] - 0s 16ms/step\n",
      "comm_round: 17 | global_acc: 34.130% | global_loss: 1.0968055725097656\n",
      "24/24 [==============================] - 0s 16ms/step\n",
      "comm_round: 18 | global_acc: 34.130% | global_loss: 1.0926342010498047\n",
      "24/24 [==============================] - 0s 16ms/step\n",
      "comm_round: 19 | global_acc: 34.130% | global_loss: 1.0744911432266235\n",
      "24/24 [==============================] - 0s 14ms/step\n",
      "comm_round: 20 | global_acc: 34.130% | global_loss: 1.0581787824630737\n",
      "24/24 [==============================] - 0s 13ms/step\n",
      "comm_round: 21 | global_acc: 57.371% | global_loss: 1.0477643013000488\n",
      "24/24 [==============================] - 0s 14ms/step\n",
      "comm_round: 22 | global_acc: 53.519% | global_loss: 1.0404165983200073\n",
      "24/24 [==============================] - 0s 15ms/step\n",
      "comm_round: 23 | global_acc: 52.722% | global_loss: 1.033982515335083\n",
      "24/24 [==============================] - 0s 14ms/step\n",
      "comm_round: 24 | global_acc: 63.612% | global_loss: 1.0388853549957275\n",
      "24/24 [==============================] - 0s 14ms/step\n",
      "comm_round: 25 | global_acc: 65.870% | global_loss: 1.0360208749771118\n",
      "24/24 [==============================] - 0s 15ms/step\n",
      "comm_round: 26 | global_acc: 57.238% | global_loss: 1.0697269439697266\n",
      "24/24 [==============================] - 0s 14ms/step\n",
      "comm_round: 27 | global_acc: 59.363% | global_loss: 1.018972396850586\n",
      "24/24 [==============================] - 0s 14ms/step\n",
      "comm_round: 28 | global_acc: 68.127% | global_loss: 1.0200647115707397\n",
      "24/24 [==============================] - 0s 14ms/step\n",
      "comm_round: 29 | global_acc: 57.769% | global_loss: 1.0493251085281372\n",
      "24/24 [==============================] - 0s 14ms/step\n",
      "comm_round: 30 | global_acc: 61.620% | global_loss: 1.0362601280212402\n",
      "24/24 [==============================] - 0s 14ms/step\n",
      "comm_round: 31 | global_acc: 39.442% | global_loss: 1.0400525331497192\n",
      "24/24 [==============================] - 0s 14ms/step\n",
      "comm_round: 32 | global_acc: 35.325% | global_loss: 1.0978676080703735\n",
      "24/24 [==============================] - 0s 13ms/step\n",
      "comm_round: 33 | global_acc: 37.583% | global_loss: 1.0953028202056885\n",
      "24/24 [==============================] - 0s 14ms/step\n",
      "comm_round: 34 | global_acc: 46.879% | global_loss: 1.073800802230835\n",
      "24/24 [==============================] - 0s 14ms/step\n",
      "comm_round: 35 | global_acc: 56.972% | global_loss: 1.0183663368225098\n",
      "24/24 [==============================] - 0s 14ms/step\n",
      "comm_round: 36 | global_acc: 65.870% | global_loss: 1.013264775276184\n",
      "24/24 [==============================] - 0s 15ms/step\n",
      "comm_round: 37 | global_acc: 59.495% | global_loss: 1.0114152431488037\n",
      "24/24 [==============================] - 0s 14ms/step\n",
      "comm_round: 38 | global_acc: 65.604% | global_loss: 1.0138156414031982\n",
      "24/24 [==============================] - 0s 14ms/step\n",
      "comm_round: 39 | global_acc: 51.394% | global_loss: 1.0221529006958008\n",
      "24/24 [==============================] - 0s 16ms/step\n",
      "comm_round: 40 | global_acc: 51.262% | global_loss: 1.0562368631362915\n",
      "24/24 [==============================] - 0s 15ms/step\n",
      "comm_round: 41 | global_acc: 45.153% | global_loss: 1.042167067527771\n",
      "24/24 [==============================] - 0s 15ms/step\n",
      "comm_round: 42 | global_acc: 47.012% | global_loss: 1.078457236289978\n",
      "24/24 [==============================] - 0s 15ms/step\n",
      "comm_round: 43 | global_acc: 59.230% | global_loss: 1.0082706212997437\n",
      "24/24 [==============================] - 0s 14ms/step\n",
      "comm_round: 44 | global_acc: 62.550% | global_loss: 1.0140258073806763\n",
      "24/24 [==============================] - 0s 14ms/step\n",
      "comm_round: 45 | global_acc: 66.135% | global_loss: 0.9971092939376831\n",
      "24/24 [==============================] - 0s 18ms/step\n",
      "comm_round: 46 | global_acc: 67.729% | global_loss: 0.9964035749435425\n",
      "24/24 [==============================] - 0s 14ms/step\n",
      "comm_round: 47 | global_acc: 65.206% | global_loss: 0.9964872002601624\n",
      "24/24 [==============================] - 0s 14ms/step\n",
      "comm_round: 48 | global_acc: 64.807% | global_loss: 0.9977611303329468\n",
      "24/24 [==============================] - 0s 15ms/step\n",
      "comm_round: 49 | global_acc: 69.057% | global_loss: 0.994982898235321\n",
      "24/24 [==============================] - 0s 13ms/step\n",
      "comm_round: 50 | global_acc: 64.807% | global_loss: 1.015916109085083\n",
      "24/24 [==============================] - 0s 14ms/step\n",
      "comm_round: 51 | global_acc: 69.057% | global_loss: 0.9919065833091736\n",
      "24/24 [==============================] - 0s 15ms/step\n",
      "comm_round: 52 | global_acc: 65.206% | global_loss: 1.00424325466156\n",
      "24/24 [==============================] - 0s 14ms/step\n",
      "comm_round: 53 | global_acc: 65.870% | global_loss: 0.9985306859016418\n",
      "24/24 [==============================] - 0s 16ms/step\n",
      "comm_round: 54 | global_acc: 62.815% | global_loss: 1.0178923606872559\n"
     ]
    },
    {
     "name": "stdout",
     "output_type": "stream",
     "text": [
      "24/24 [==============================] - 0s 15ms/step\n",
      "comm_round: 55 | global_acc: 69.057% | global_loss: 0.9849616289138794\n",
      "24/24 [==============================] - 0s 14ms/step\n",
      "comm_round: 56 | global_acc: 63.612% | global_loss: 1.0004128217697144\n",
      "24/24 [==============================] - 0s 18ms/step\n",
      "comm_round: 57 | global_acc: 68.659% | global_loss: 0.9833651781082153\n",
      "24/24 [==============================] - 0s 15ms/step\n",
      "comm_round: 58 | global_acc: 63.612% | global_loss: 0.9913012385368347\n",
      "24/24 [==============================] - 0s 14ms/step\n",
      "comm_round: 59 | global_acc: 66.135% | global_loss: 0.9896343946456909\n",
      "24/24 [==============================] - 1s 20ms/step\n",
      "comm_round: 60 | global_acc: 62.683% | global_loss: 1.007630705833435\n",
      "24/24 [==============================] - 0s 15ms/step\n",
      "comm_round: 61 | global_acc: 66.799% | global_loss: 0.9848324060440063\n",
      "24/24 [==============================] - 0s 14ms/step\n",
      "comm_round: 62 | global_acc: 62.683% | global_loss: 0.9872358441352844\n",
      "24/24 [==============================] - 0s 14ms/step\n",
      "comm_round: 63 | global_acc: 65.073% | global_loss: 0.9933182597160339\n",
      "24/24 [==============================] - 0s 14ms/step\n",
      "comm_round: 64 | global_acc: 52.590% | global_loss: 1.008643388748169\n",
      "24/24 [==============================] - 0s 14ms/step\n",
      "comm_round: 65 | global_acc: 60.159% | global_loss: 1.0135924816131592\n",
      "24/24 [==============================] - 0s 14ms/step\n",
      "comm_round: 66 | global_acc: 67.729% | global_loss: 0.9741877913475037\n",
      "24/24 [==============================] - 0s 14ms/step\n",
      "comm_round: 67 | global_acc: 65.471% | global_loss: 0.9778759479522705\n",
      "24/24 [==============================] - 1s 21ms/step\n",
      "comm_round: 68 | global_acc: 67.596% | global_loss: 0.9736713171005249\n",
      "24/24 [==============================] - 0s 18ms/step\n",
      "comm_round: 69 | global_acc: 65.604% | global_loss: 0.987727165222168\n",
      "24/24 [==============================] - 0s 14ms/step\n",
      "comm_round: 70 | global_acc: 67.729% | global_loss: 0.9687939882278442\n",
      "24/24 [==============================] - 0s 14ms/step\n",
      "comm_round: 71 | global_acc: 69.323% | global_loss: 0.9669852256774902\n",
      "24/24 [==============================] - 0s 13ms/step\n",
      "comm_round: 72 | global_acc: 64.807% | global_loss: 0.9798435568809509\n",
      "24/24 [==============================] - 0s 16ms/step\n",
      "comm_round: 73 | global_acc: 68.393% | global_loss: 0.9657180905342102\n",
      "24/24 [==============================] - 0s 17ms/step\n",
      "comm_round: 74 | global_acc: 64.542% | global_loss: 0.9720783829689026\n",
      "24/24 [==============================] - 0s 15ms/step\n",
      "comm_round: 75 | global_acc: 64.011% | global_loss: 0.9743077754974365\n",
      "24/24 [==============================] - 0s 17ms/step\n",
      "comm_round: 76 | global_acc: 69.456% | global_loss: 0.9631232619285583\n",
      "24/24 [==============================] - 1s 19ms/step\n",
      "comm_round: 77 | global_acc: 65.471% | global_loss: 0.9683328866958618\n",
      "24/24 [==============================] - 1s 19ms/step\n",
      "comm_round: 78 | global_acc: 68.924% | global_loss: 0.9614788889884949\n",
      "24/24 [==============================] - 0s 16ms/step\n",
      "comm_round: 79 | global_acc: 64.011% | global_loss: 0.9663496613502502\n"
     ]
    }
   ],
   "source": [
    "#commence global training loop\n",
    "for comm_round in range(comms_round):\n",
    "            \n",
    "    # get the global model's weights - will serve as the initial weights for all local models\n",
    "    global_weights = global_model.get_weights()\n",
    "    \n",
    "    #initial list to collect local model weights after scalling\n",
    "    scaled_local_weight_list = list()\n",
    "\n",
    "    #randomize client data - using keys\n",
    "    all_client_names = list(clients_batched.keys())\n",
    "           \n",
    "    client_names = random.sample(all_client_names, k=10)\n",
    "    # print(client_names, len(client_names))\n",
    "    random.shuffle(client_names)\n",
    "    \n",
    "#     if debug: \n",
    "#         # print('all_client_names', all_client_names)\n",
    "#         print('client_names', client_names, len(client_names))\n",
    "                \n",
    "    \n",
    "    #loop through each client and create new local model\n",
    "    for client in client_names:\n",
    "        smlp_local = SimpleMLP()\n",
    "        #dee: build shape, number of folders\n",
    "        local_model = smlp_local.build(build_shape, 3)\n",
    "        local_model.compile(loss=loss, \n",
    "                      optimizer=optimizer, \n",
    "                      metrics=metrics)\n",
    "        \n",
    "        #set local model weight to the weight of the global model\n",
    "        local_model.set_weights(global_weights)\n",
    "        \n",
    "        #fit local model with client's data\n",
    "        local_model.fit(clients_batched[client], epochs=1, verbose=0)\n",
    "        \n",
    "        #scale the model weights and add to list\n",
    "        scaling_factor = 0.1 # weight_scalling_factor(clients_batched, client)\n",
    "        # print('scaling_factor', scaling_factor)\n",
    "        scaled_weights = scale_model_weights(local_model.get_weights(), scaling_factor)\n",
    "        scaled_local_weight_list.append(scaled_weights)\n",
    "        \n",
    "        #clear session to free memory after each communication round\n",
    "        K.clear_session()\n",
    "        \n",
    "    #to get the average over all the local model, we simply take the sum of the scaled weights\n",
    "    average_weights = sum_scaled_weights(scaled_local_weight_list)\n",
    "    \n",
    "    #update global model \n",
    "    global_model.set_weights(average_weights)\n",
    "\n",
    "    #test global model and print out metrics after each communications round\n",
    "    for(X_test, Y_test) in test_batched:\n",
    "        global_acc, global_loss = test_model(X_test, Y_test, global_model, comm_round)\n",
    "        global_acc_list.append(global_acc)\n",
    "        global_loss_list.append(global_loss)"
   ]
  },
  {
   "cell_type": "code",
   "execution_count": 17,
   "metadata": {},
   "outputs": [
    {
     "name": "stdout",
     "output_type": "stream",
     "text": [
      "IID | total comm rounds 80\n"
     ]
    },
    {
     "data": {
      "image/png": "[encoded data removed]",
      "text/plain": [
       "<Figure size 1152x288 with 2 Axes>"
      ]
     },
     "metadata": {
      "needs_background": "light"
     },
     "output_type": "display_data"
    }
   ],
   "source": [
    "# IID \n",
    "import matplotlib.pyplot as plt\n",
    "plt.figure(figsize=(16,4))\n",
    "plt.subplot(121)\n",
    "plt.plot(list(range(0,len(global_loss_list))), global_loss_list)\n",
    "plt.subplot(122)\n",
    "plt.plot(list(range(0,len(global_acc_list))), global_acc_list)\n",
    "print('IID | total comm rounds', len(global_acc_list))"
   ]
  },
  {
   "cell_type": "code",
   "execution_count": 18,
   "metadata": {},
   "outputs": [],
   "source": [
    "iid_df = pd.DataFrame(list(zip(global_acc_list, global_loss_list)), columns =['global_acc_list', 'global_loss_list'])\n",
    "iid_df.to_csv('MNIST_IID.csv',index=False)"
   ]
  },
  {
   "cell_type": "markdown",
   "metadata": {},
   "source": [
    "### Non-IID"
   ]
  },
  {
   "cell_type": "code",
   "execution_count": 19,
   "metadata": {},
   "outputs": [],
   "source": [
    "def create_clients(image_list, label_list, num_clients=100, initial='clients'):\n",
    "    ''' return: a dictionary with keys clients' names and value as \n",
    "                data shards - tuple of images and label lists.\n",
    "        args: \n",
    "            image_list: a list of numpy arrays of training images\n",
    "            label_list:a list of binarized labels for each image\n",
    "            num_client: number of fedrated members (clients)\n",
    "            initials: the clients'name prefix, e.g, clients_1 \n",
    "            \n",
    "    '''\n",
    "\n",
    "    #create a list of client names\n",
    "    client_names = ['{}_{}'.format(initial, i+1) for i in range(num_clients)]\n",
    "\n",
    "    #randomize the data\n",
    "    # data = list(zip(image_list, label_list))\n",
    "    # random.shuffle(data)  # <- IID\n",
    "    \n",
    "    # sort data for non-iid\n",
    "    max_y = np.argmax(label_list, axis=-1)\n",
    "    sorted_zip = sorted(zip(max_y, label_list, image_list), key=lambda x: x[0])\n",
    "    data = [(x,y) for _,y,x in sorted_zip]\n",
    "\n",
    "    #shard data and place at each client\n",
    "    size = len(data)//num_clients\n",
    "    shards = [data[i:i + size] for i in range(0, size*num_clients, size)]\n",
    "\n",
    "    #number of clients must equal number of shards\n",
    "    assert(len(shards) == len(client_names))\n",
    "\n",
    "    return {client_names[i] : shards[i] for i in range(len(client_names))} "
   ]
  },
  {
   "cell_type": "code",
   "execution_count": null,
   "metadata": {},
   "outputs": [],
   "source": []
  },
  {
   "cell_type": "code",
   "execution_count": 20,
   "metadata": {},
   "outputs": [
    {
     "data": {
      "text/plain": [
       "(6777, 753, 6777, 753)"
      ]
     },
     "execution_count": 20,
     "metadata": {},
     "output_type": "execute_result"
    }
   ],
   "source": [
    "len(X_train), len(X_test), len(y_train), len(y_test)"
   ]
  },
  {
   "cell_type": "code",
   "execution_count": 21,
   "metadata": {},
   "outputs": [],
   "source": [
    "#create clients\n",
    "clients = create_clients(X_train, y_train, num_clients=100, initial='client')"
   ]
  },
  {
   "cell_type": "code",
   "execution_count": 22,
   "metadata": {},
   "outputs": [],
   "source": [
    "#process and batch the training data for each client\n",
    "clients_batched = dict()\n",
    "for (client_name, data) in clients.items():\n",
    "    clients_batched[client_name] = batch_data(data)\n",
    "    \n",
    "#process and batch the test set  \n",
    "test_batched = tf.data.Dataset.from_tensor_slices((X_test, y_test)).batch(len(y_test))"
   ]
  },
  {
   "cell_type": "code",
   "execution_count": 23,
   "metadata": {},
   "outputs": [
    {
     "name": "stderr",
     "output_type": "stream",
     "text": [
      "C:\\Users\\User\\AppData\\Roaming\\Python\\Python38\\site-packages\\keras\\optimizers\\optimizer_v2\\gradient_descent.py:111: UserWarning: The `lr` argument is deprecated, use `learning_rate` instead.\n",
      "  super().__init__(name, **kwargs)\n"
     ]
    }
   ],
   "source": [
    "lr = 0.01 \n",
    "comms_round = 180\n",
    "loss='categorical_crossentropy'\n",
    "metrics = ['accuracy']\n",
    "optimizer = SGD(lr=lr, \n",
    "                decay=lr / comms_round, \n",
    "                momentum=0.9\n",
    "               )          "
   ]
  },
  {
   "cell_type": "code",
   "execution_count": 24,
   "metadata": {},
   "outputs": [],
   "source": [
    "#initialize global model\n",
    "\n",
    "build_shape = 784 #(32, 32, 3)  # 1024 <- CIFAR-10    # 784 # for MNIST\n",
    "\n",
    "smlp_global = SimpleMLP()\n",
    "global_model = smlp_global.build(build_shape, 10) \n",
    "global_acc_list = []\n",
    "global_loss_list = []"
   ]
  },
  {
   "cell_type": "code",
   "execution_count": 25,
   "metadata": {},
   "outputs": [
    {
     "ename": "ValueError",
     "evalue": "in user code:\n\n    File \"C:\\Users\\User\\AppData\\Roaming\\Python\\Python38\\site-packages\\keras\\engine\\training.py\", line 1160, in train_function  *\n        return step_function(self, iterator)\n    File \"C:\\Users\\User\\AppData\\Roaming\\Python\\Python38\\site-packages\\keras\\engine\\training.py\", line 1146, in step_function  **\n        outputs = model.distribute_strategy.run(run_step, args=(data,))\n    File \"C:\\Users\\User\\AppData\\Roaming\\Python\\Python38\\site-packages\\keras\\engine\\training.py\", line 1135, in run_step  **\n        outputs = model.train_step(data)\n    File \"C:\\Users\\User\\AppData\\Roaming\\Python\\Python38\\site-packages\\keras\\engine\\training.py\", line 993, in train_step\n        y_pred = self(x, training=True)\n    File \"C:\\Users\\User\\AppData\\Roaming\\Python\\Python38\\site-packages\\keras\\utils\\traceback_utils.py\", line 70, in error_handler\n        raise e.with_traceback(filtered_tb) from None\n    File \"C:\\Users\\User\\AppData\\Roaming\\Python\\Python38\\site-packages\\keras\\engine\\input_spec.py\", line 295, in assert_input_compatibility\n        raise ValueError(\n\n    ValueError: Input 0 of layer \"sequential_1\" is incompatible with the layer: expected shape=(None, 784), found shape=(None, 40000)\n",
     "output_type": "error",
     "traceback": [
      "\u001b[1;31m---------------------------------------------------------------------------\u001b[0m",
      "\u001b[1;31mValueError\u001b[0m                                Traceback (most recent call last)",
      "\u001b[1;32m<ipython-input-25-141f5945eeba>\u001b[0m in \u001b[0;36m<module>\u001b[1;34m\u001b[0m\n\u001b[0;32m     29\u001b[0m \u001b[1;33m\u001b[0m\u001b[0m\n\u001b[0;32m     30\u001b[0m         \u001b[1;31m#fit local model with client's data\u001b[0m\u001b[1;33m\u001b[0m\u001b[1;33m\u001b[0m\u001b[1;33m\u001b[0m\u001b[0m\n\u001b[1;32m---> 31\u001b[1;33m         \u001b[0mlocal_model\u001b[0m\u001b[1;33m.\u001b[0m\u001b[0mfit\u001b[0m\u001b[1;33m(\u001b[0m\u001b[0mclients_batched\u001b[0m\u001b[1;33m[\u001b[0m\u001b[0mclient\u001b[0m\u001b[1;33m]\u001b[0m\u001b[1;33m,\u001b[0m \u001b[0mepochs\u001b[0m\u001b[1;33m=\u001b[0m\u001b[1;36m1\u001b[0m\u001b[1;33m,\u001b[0m \u001b[0mverbose\u001b[0m\u001b[1;33m=\u001b[0m\u001b[1;36m0\u001b[0m\u001b[1;33m)\u001b[0m\u001b[1;33m\u001b[0m\u001b[1;33m\u001b[0m\u001b[0m\n\u001b[0m\u001b[0;32m     32\u001b[0m \u001b[1;33m\u001b[0m\u001b[0m\n\u001b[0;32m     33\u001b[0m         \u001b[1;31m#scale the model weights and add to list\u001b[0m\u001b[1;33m\u001b[0m\u001b[1;33m\u001b[0m\u001b[1;33m\u001b[0m\u001b[0m\n",
      "\u001b[1;32m~\\AppData\\Roaming\\Python\\Python38\\site-packages\\keras\\utils\\traceback_utils.py\u001b[0m in \u001b[0;36merror_handler\u001b[1;34m(*args, **kwargs)\u001b[0m\n\u001b[0;32m     68\u001b[0m             \u001b[1;31m# To get the full stack trace, call:\u001b[0m\u001b[1;33m\u001b[0m\u001b[1;33m\u001b[0m\u001b[1;33m\u001b[0m\u001b[0m\n\u001b[0;32m     69\u001b[0m             \u001b[1;31m# `tf.debugging.disable_traceback_filtering()`\u001b[0m\u001b[1;33m\u001b[0m\u001b[1;33m\u001b[0m\u001b[1;33m\u001b[0m\u001b[0m\n\u001b[1;32m---> 70\u001b[1;33m             \u001b[1;32mraise\u001b[0m \u001b[0me\u001b[0m\u001b[1;33m.\u001b[0m\u001b[0mwith_traceback\u001b[0m\u001b[1;33m(\u001b[0m\u001b[0mfiltered_tb\u001b[0m\u001b[1;33m)\u001b[0m \u001b[1;32mfrom\u001b[0m \u001b[1;32mNone\u001b[0m\u001b[1;33m\u001b[0m\u001b[1;33m\u001b[0m\u001b[0m\n\u001b[0m\u001b[0;32m     71\u001b[0m         \u001b[1;32mfinally\u001b[0m\u001b[1;33m:\u001b[0m\u001b[1;33m\u001b[0m\u001b[1;33m\u001b[0m\u001b[0m\n\u001b[0;32m     72\u001b[0m             \u001b[1;32mdel\u001b[0m \u001b[0mfiltered_tb\u001b[0m\u001b[1;33m\u001b[0m\u001b[1;33m\u001b[0m\u001b[0m\n",
      "\u001b[1;32m~\\AppData\\Roaming\\Python\\Python38\\site-packages\\keras\\engine\\training.py\u001b[0m in \u001b[0;36mtf__train_function\u001b[1;34m(iterator)\u001b[0m\n\u001b[0;32m     13\u001b[0m                 \u001b[1;32mtry\u001b[0m\u001b[1;33m:\u001b[0m\u001b[1;33m\u001b[0m\u001b[1;33m\u001b[0m\u001b[0m\n\u001b[0;32m     14\u001b[0m                     \u001b[0mdo_return\u001b[0m \u001b[1;33m=\u001b[0m \u001b[1;32mTrue\u001b[0m\u001b[1;33m\u001b[0m\u001b[1;33m\u001b[0m\u001b[0m\n\u001b[1;32m---> 15\u001b[1;33m                     \u001b[0mretval_\u001b[0m \u001b[1;33m=\u001b[0m \u001b[0mag__\u001b[0m\u001b[1;33m.\u001b[0m\u001b[0mconverted_call\u001b[0m\u001b[1;33m(\u001b[0m\u001b[0mag__\u001b[0m\u001b[1;33m.\u001b[0m\u001b[0mld\u001b[0m\u001b[1;33m(\u001b[0m\u001b[0mstep_function\u001b[0m\u001b[1;33m)\u001b[0m\u001b[1;33m,\u001b[0m \u001b[1;33m(\u001b[0m\u001b[0mag__\u001b[0m\u001b[1;33m.\u001b[0m\u001b[0mld\u001b[0m\u001b[1;33m(\u001b[0m\u001b[0mself\u001b[0m\u001b[1;33m)\u001b[0m\u001b[1;33m,\u001b[0m \u001b[0mag__\u001b[0m\u001b[1;33m.\u001b[0m\u001b[0mld\u001b[0m\u001b[1;33m(\u001b[0m\u001b[0miterator\u001b[0m\u001b[1;33m)\u001b[0m\u001b[1;33m)\u001b[0m\u001b[1;33m,\u001b[0m \u001b[1;32mNone\u001b[0m\u001b[1;33m,\u001b[0m \u001b[0mfscope\u001b[0m\u001b[1;33m)\u001b[0m\u001b[1;33m\u001b[0m\u001b[1;33m\u001b[0m\u001b[0m\n\u001b[0m\u001b[0;32m     16\u001b[0m                 \u001b[1;32mexcept\u001b[0m\u001b[1;33m:\u001b[0m\u001b[1;33m\u001b[0m\u001b[1;33m\u001b[0m\u001b[0m\n\u001b[0;32m     17\u001b[0m                     \u001b[0mdo_return\u001b[0m \u001b[1;33m=\u001b[0m \u001b[1;32mFalse\u001b[0m\u001b[1;33m\u001b[0m\u001b[1;33m\u001b[0m\u001b[0m\n",
      "\u001b[1;31mValueError\u001b[0m: in user code:\n\n    File \"C:\\Users\\User\\AppData\\Roaming\\Python\\Python38\\site-packages\\keras\\engine\\training.py\", line 1160, in train_function  *\n        return step_function(self, iterator)\n    File \"C:\\Users\\User\\AppData\\Roaming\\Python\\Python38\\site-packages\\keras\\engine\\training.py\", line 1146, in step_function  **\n        outputs = model.distribute_strategy.run(run_step, args=(data,))\n    File \"C:\\Users\\User\\AppData\\Roaming\\Python\\Python38\\site-packages\\keras\\engine\\training.py\", line 1135, in run_step  **\n        outputs = model.train_step(data)\n    File \"C:\\Users\\User\\AppData\\Roaming\\Python\\Python38\\site-packages\\keras\\engine\\training.py\", line 993, in train_step\n        y_pred = self(x, training=True)\n    File \"C:\\Users\\User\\AppData\\Roaming\\Python\\Python38\\site-packages\\keras\\utils\\traceback_utils.py\", line 70, in error_handler\n        raise e.with_traceback(filtered_tb) from None\n    File \"C:\\Users\\User\\AppData\\Roaming\\Python\\Python38\\site-packages\\keras\\engine\\input_spec.py\", line 295, in assert_input_compatibility\n        raise ValueError(\n\n    ValueError: Input 0 of layer \"sequential_1\" is incompatible with the layer: expected shape=(None, 784), found shape=(None, 40000)\n"
     ]
    }
   ],
   "source": [
    "#commence global training loop\n",
    "for comm_round in range(comms_round):\n",
    "            \n",
    "    # get the global model's weights - will serve as the initial weights for all local models\n",
    "    global_weights = global_model.get_weights()\n",
    "    \n",
    "    #initial list to collect local model weights after scalling\n",
    "    scaled_local_weight_list = list()\n",
    "\n",
    "    #randomize client data - using keys\n",
    "    all_client_names = list(clients_batched.keys())\n",
    "           \n",
    "    client_names = random.sample(all_client_names, k=10)\n",
    "    random.shuffle(client_names)\n",
    "    if debug: \n",
    "        # print('all_client_names', all_client_names)\n",
    "        print('client_names', client_names)\n",
    "    \n",
    "    #loop through each client and create new local model\n",
    "    for client in client_names:\n",
    "        smlp_local = SimpleMLP()\n",
    "        local_model = smlp_local.build(build_shape, 10)\n",
    "        local_model.compile(loss=loss, \n",
    "                      optimizer=optimizer, \n",
    "                      metrics=metrics)\n",
    "        \n",
    "        #set local model weight to the weight of the global model\n",
    "        local_model.set_weights(global_weights)\n",
    "        \n",
    "        #fit local model with client's data\n",
    "        local_model.fit(clients_batched[client], epochs=1, verbose=0)\n",
    "        \n",
    "        #scale the model weights and add to list\n",
    "        scaling_factor = 0.1 # weight_scalling_factor(clients_batched, client)\n",
    "        scaled_weights = scale_model_weights(local_model.get_weights(), scaling_factor)\n",
    "        scaled_local_weight_list.append(scaled_weights)\n",
    "        \n",
    "        #clear session to free memory after each communication round\n",
    "        K.clear_session()\n",
    "        \n",
    "    #to get the average over all the local model, we simply take the sum of the scaled weights\n",
    "    average_weights = sum_scaled_weights(scaled_local_weight_list)\n",
    "    \n",
    "    #update global model \n",
    "    global_model.set_weights(average_weights)\n",
    "\n",
    "    #test global model and print out metrics after each communications round\n",
    "    for(X_test, Y_test) in test_batched:\n",
    "        global_acc, global_loss = test_model(X_test, Y_test, global_model, comm_round)\n",
    "        global_acc_list.append(global_acc)\n",
    "        global_loss_list.append(global_loss)"
   ]
  },
  {
   "cell_type": "code",
   "execution_count": null,
   "metadata": {},
   "outputs": [],
   "source": [
    "# Non-IID \n",
    "import matplotlib.pyplot as plt\n",
    "plt.figure(figsize=(16,4))\n",
    "plt.subplot(121)\n",
    "plt.plot(list(range(0,len(global_loss_list))), global_loss_list)\n",
    "plt.subplot(122)\n",
    "plt.plot(list(range(0,len(global_acc_list))), global_acc_list)\n",
    "print('Non-IID | total comm rounds', len(global_acc_list))           "
   ]
  },
  {
   "cell_type": "code",
   "execution_count": null,
   "metadata": {},
   "outputs": [],
   "source": [
    "noniid_df = pd.DataFrame(list(zip(global_acc_list, global_loss_list)), columns =['global_acc_list', 'global_loss_list'])\n",
    "noniid_df.to_csv('CIFAR-10_Non-IID.csv',index=False)"
   ]
  },
  {
   "cell_type": "code",
   "execution_count": null,
   "metadata": {},
   "outputs": [],
   "source": []
  }
 ],
 "metadata": {
  "kernelspec": {
   "display_name": "Python 3",
   "language": "python",
   "name": "python3"
  },
  "language_info": {
   "codemirror_mode": {
    "name": "ipython",
    "version": 3
   },
   "file_extension": ".py",
   "mimetype": "text/x-python",
   "name": "python",
   "nbconvert_exporter": "python",
   "pygments_lexer": "ipython3",
   "version": "3.8.8"
  }
 },
 "nbformat": 4,
 "nbformat_minor": 4
}
